{
  "cells": [
    {
      "cell_type": "markdown",
      "metadata": {
        "id": "view-in-github",
        "colab_type": "text"
      },
      "source": [
        "<a href=\"https://colab.research.google.com/github/dmcguire81/metapy/blob/task%2Fgoogle_colab/tutorials/5-topic-modeling.ipynb\" target=\"_parent\"><img src=\"https://colab.research.google.com/assets/colab-badge.svg\" alt=\"Open In Colab\"/></a>"
      ]
    },
    {
      "cell_type": "code",
      "source": [
        "from google.colab import drive\n",
        "drive.mount('/content/drive')"
      ],
      "metadata": {
        "id": "26WHTeN7qrUO",
        "outputId": "636238af-8f2c-433d-a159-c0abd40d5b4b",
        "colab": {
          "base_uri": "https://localhost:8080/"
        }
      },
      "execution_count": 1,
      "outputs": [
        {
          "output_type": "stream",
          "name": "stdout",
          "text": [
            "Drive already mounted at /content/drive; to attempt to forcibly remount, call drive.mount(\"/content/drive\", force_remount=True).\n"
          ]
        }
      ]
    },
    {
      "cell_type": "code",
      "source": [
        "%%capture\n",
        "# NOTE: this assumes you've uploaded a Python 3.7 build from our fork to Drive\n",
        "# TODO: replace this with a stock install when it's published somewhere\n",
        "%pip install /content/drive/MyDrive/metapy-0.2.13-cp37-cp37m-manylinux_2_24_x86_64.whl"
      ],
      "metadata": {
        "id": "GjI8M5cgqs5v"
      },
      "execution_count": 2,
      "outputs": []
    },
    {
      "cell_type": "markdown",
      "metadata": {
        "deletable": true,
        "editable": true,
        "id": "XHlilGd5qopN"
      },
      "source": [
        "First, let's import the Python bindings, as usual."
      ]
    },
    {
      "cell_type": "code",
      "execution_count": 3,
      "metadata": {
        "collapsed": true,
        "deletable": true,
        "editable": true,
        "id": "d3hFUc4Vqop2"
      },
      "outputs": [],
      "source": [
        "import metapy"
      ]
    },
    {
      "cell_type": "code",
      "execution_count": 4,
      "metadata": {
        "deletable": true,
        "editable": true,
        "id": "f_6WPSmUqop5",
        "outputId": "1f67314b-7101-425c-f0d4-2c7329453b78",
        "colab": {
          "base_uri": "https://localhost:8080/",
          "height": 36
        }
      },
      "outputs": [
        {
          "output_type": "execute_result",
          "data": {
            "text/plain": [
              "'0.2.13'"
            ],
            "application/vnd.google.colaboratory.intrinsic+json": {
              "type": "string"
            }
          },
          "metadata": {},
          "execution_count": 4
        }
      ],
      "source": [
        "metapy.__version__ # you will want your version to be >= to this"
      ]
    },
    {
      "cell_type": "markdown",
      "metadata": {
        "deletable": true,
        "editable": true,
        "id": "JmH7e0QUqop8"
      },
      "source": [
        "If you would like to, you can inform MeTA to output log data to stderr like so:"
      ]
    },
    {
      "cell_type": "code",
      "execution_count": 5,
      "metadata": {
        "collapsed": true,
        "deletable": true,
        "editable": true,
        "id": "CuQf-zboqoqA"
      },
      "outputs": [],
      "source": [
        "# Uncomment for detailed (but installation-specific) progress logs\n",
        "# metapy.log_to_stderr()"
      ]
    },
    {
      "cell_type": "markdown",
      "metadata": {
        "deletable": true,
        "editable": true,
        "id": "rgoWFDV8qoqC"
      },
      "source": [
        "Now, let's download a list of stopwords and a sample dataset to begin exploring MeTA's topic models."
      ]
    },
    {
      "cell_type": "code",
      "execution_count": 6,
      "metadata": {
        "deletable": true,
        "editable": true,
        "id": "wvVDnapVqoqo"
      },
      "outputs": [],
      "source": [
        "%%capture\n",
        "!wget -N https://raw.githubusercontent.com/meta-toolkit/meta/master/data/lemur-stopwords.txt"
      ]
    },
    {
      "cell_type": "code",
      "execution_count": 7,
      "metadata": {
        "deletable": true,
        "editable": true,
        "id": "WdQiSG4tqoqs"
      },
      "outputs": [],
      "source": [
        "%%capture\n",
        "!wget -N https://meta-toolkit.org/data/2016-01-26/ceeaus.tar.gz\n",
        "!tar xf ceeaus.tar.gz"
      ]
    },
    {
      "cell_type": "markdown",
      "metadata": {
        "deletable": true,
        "editable": true,
        "id": "dBgxwuvlqoqu"
      },
      "source": [
        "We will need to index our data to proceed. We eventually want to be able to extract the bag-of-words representation for our individual documents, so we will want a `ForwardIndex` in this case."
      ]
    },
    {
      "cell_type": "code",
      "source": [
        "%%capture\n",
        "!wget -N https://raw.githubusercontent.com/dmcguire81/metapy/master/tutorials/ceeaus-config.toml"
      ],
      "metadata": {
        "id": "LP4WGHFprVF1"
      },
      "execution_count": 8,
      "outputs": []
    },
    {
      "cell_type": "code",
      "execution_count": 9,
      "metadata": {
        "deletable": true,
        "editable": true,
        "id": "VFXWdRQ9qoqy"
      },
      "outputs": [],
      "source": [
        "fidx = metapy.index.make_forward_index('ceeaus-config.toml')"
      ]
    },
    {
      "cell_type": "markdown",
      "metadata": {
        "deletable": true,
        "editable": true,
        "id": "cFAbL4cdqoq0"
      },
      "source": [
        "Just like in classification, the feature set used for the topic modeling will be the feature set used at the time of indexing, so if you want to play with a different set of features (like bigram words), you will need to re-index your data.\n",
        "\n",
        "For now, we've just stuck with the default filter chain for unigram words, so we're operating in the traditional bag-of-words space.\n",
        "\n",
        "Let's load our documents into memory to run the topic model inference now."
      ]
    },
    {
      "cell_type": "code",
      "execution_count": 10,
      "metadata": {
        "deletable": true,
        "editable": true,
        "id": "eXMRYJ0yqorb"
      },
      "outputs": [],
      "source": [
        "dset = metapy.learn.Dataset(fidx)"
      ]
    },
    {
      "cell_type": "markdown",
      "metadata": {
        "deletable": true,
        "editable": true,
        "id": "hJrZ9-Diqord"
      },
      "source": [
        "Now, let's try to find some topics for this dataset. To do so, we're going to use a generative model called a topic model.\n",
        "\n",
        "There are many different topic models in the literature, but the most commonly used topic model is Latent Dirichlet Allocation. Here, we propose that there are K topics (represented with a categorical distribution over words) $\\phi_k$ from which all of our documents are genereated. These K topics are modeled as being sampled from a Dirichlet distribution with parameter $\\vec{\\alpha}$. Then, to generate a document $d$, we first sample a distribution over the K topics $\\theta_d$ from another Dirichlet distribution with parameter $\\vec{\\beta}$. Then, for each word in this document, we first sample a topic identifier $z \\sim \\theta_d$ and then the word by drawing from the topic we selected ($w \\sim \\phi_z$). Refer to the [Wikipedia article on LDA](https://en.wikipedia.org/wiki/Latent_Dirichlet_allocation) for more information.\n",
        "\n",
        "The goal of running inference for an LDA model is to infer the latent variables $\\phi_k$ and $\\theta_d$ for all of the $K$ topics and $D$ documents, respectively. MeTA provides a number of different inference algorithms for LDA, as each one entails a different set of trade-offs (inference in LDA is intractable, so all inference algorithms are approximations; different algorithms entail different approximation guarantees, running times, and required memroy consumption). For now, let's run a Variational Infernce algorithm called CVB0 to find two topics. (In practice you will likely be finding many more topics than just two, but this is a very small toy dataset.)"
      ]
    },
    {
      "cell_type": "code",
      "execution_count": 11,
      "metadata": {
        "deletable": true,
        "editable": true,
        "id": "XpByUUK8qorg"
      },
      "outputs": [],
      "source": [
        "lda_inf = metapy.topics.LDACollapsedVB(dset, num_topics=2, alpha=1.0, beta=0.01)\n",
        "lda_inf.run(num_iters=1000)"
      ]
    },
    {
      "cell_type": "markdown",
      "metadata": {
        "collapsed": true,
        "deletable": true,
        "editable": true,
        "id": "bhSX3ci4qorj"
      },
      "source": [
        "The above ran the CVB0 algorithm for 1000 iterations, or until an algorithm-specific convergence criterion was met. Now let's save the current estimate for our topics and topic proportions."
      ]
    },
    {
      "cell_type": "code",
      "execution_count": 12,
      "metadata": {
        "collapsed": true,
        "deletable": true,
        "editable": true,
        "id": "gj21x6zjqork"
      },
      "outputs": [],
      "source": [
        "lda_inf.save('lda-cvb0')"
      ]
    },
    {
      "cell_type": "markdown",
      "metadata": {
        "deletable": true,
        "editable": true,
        "id": "2tSZBrd-qorl"
      },
      "source": [
        "We can interrogate the topic inference results by using the `TopicModel` query class. Let's load our inference results back in."
      ]
    },
    {
      "cell_type": "code",
      "execution_count": 13,
      "metadata": {
        "deletable": true,
        "editable": true,
        "id": "Fp2XphCOqosN"
      },
      "outputs": [],
      "source": [
        "model = metapy.topics.TopicModel('lda-cvb0')"
      ]
    },
    {
      "cell_type": "markdown",
      "metadata": {
        "deletable": true,
        "editable": true,
        "id": "lOKUfaEEqosP"
      },
      "source": [
        "Now, let's have a look at our topics. A typical way of doing this is to print the top $k$ words in each topic, so let's do that."
      ]
    },
    {
      "cell_type": "code",
      "execution_count": 14,
      "metadata": {
        "deletable": true,
        "editable": true,
        "id": "cQXMqXJUqosS",
        "outputId": "47a91c94-c6a6-44b0-db56-3aa2ea45463e",
        "colab": {
          "base_uri": "https://localhost:8080/"
        }
      },
      "outputs": [
        {
          "output_type": "execute_result",
          "data": {
            "text/plain": [
              "[(3759, 0.06705632876205436),\n",
              " (1968, 0.05605926723261055),\n",
              " (2635, 0.052223032543735365),\n",
              " (3549, 0.04642935755269033),\n",
              " (665, 0.0348813869181328),\n",
              " (4157, 0.029067464231632915),\n",
              " (2322, 0.028850202852809672),\n",
              " (3729, 0.022331330087063384),\n",
              " (1790, 0.020755684552465195),\n",
              " (3554, 0.015483026545578923)]"
            ]
          },
          "metadata": {},
          "execution_count": 14
        }
      ],
      "source": [
        "model.top_k(tid=0)"
      ]
    },
    {
      "cell_type": "markdown",
      "metadata": {
        "deletable": true,
        "editable": true,
        "id": "i3yx6PSkqosT"
      },
      "source": [
        "The models operate on term ids instead of raw text strings, so let's convert this to a human readable format by using the vocabulary contained in our `ForwardIndex` to map the term ids to strings."
      ]
    },
    {
      "cell_type": "code",
      "execution_count": 15,
      "metadata": {
        "deletable": true,
        "editable": true,
        "id": "5oCdoLN-qosU",
        "outputId": "b9cb432e-cce7-42e1-84e3-0360ee86e574",
        "colab": {
          "base_uri": "https://localhost:8080/"
        }
      },
      "outputs": [
        {
          "output_type": "execute_result",
          "data": {
            "text/plain": [
              "[('time', 0.06705632876205436),\n",
              " ('job', 0.05605926723261055),\n",
              " ('part', 0.052223032543735365),\n",
              " ('student', 0.04642935755269033),\n",
              " ('colleg', 0.0348813869181328),\n",
              " ('work', 0.029067464231632915),\n",
              " ('money', 0.028850202852809672),\n",
              " ('think', 0.022331330087063384),\n",
              " ('import', 0.020755684552465195),\n",
              " ('studi', 0.015483026545578923)]"
            ]
          },
          "metadata": {},
          "execution_count": 15
        }
      ],
      "source": [
        "[(fidx.term_text(pr[0]), pr[1]) for pr in model.top_k(tid=0)]"
      ]
    },
    {
      "cell_type": "code",
      "execution_count": 16,
      "metadata": {
        "deletable": true,
        "editable": true,
        "id": "UEaGbyAFqosV",
        "outputId": "cfa82757-8c73-4713-b29a-97bf944d1adc",
        "colab": {
          "base_uri": "https://localhost:8080/"
        }
      },
      "outputs": [
        {
          "output_type": "execute_result",
          "data": {
            "text/plain": [
              "[('smoke', 0.13110405053979196),\n",
              " ('restaur', 0.054349353543834446),\n",
              " ('peopl', 0.03678011107867773),\n",
              " ('smoker', 0.03349266037541876),\n",
              " ('ban', 0.022530687474535425),\n",
              " ('think', 0.015620499600262804),\n",
              " ('japan', 0.0127809265376863),\n",
              " ('complet', 0.012635077394220635),\n",
              " ('cigarett', 0.011987190618018648),\n",
              " ('non', 0.011317747304595558)]"
            ]
          },
          "metadata": {},
          "execution_count": 16
        }
      ],
      "source": [
        "[(fidx.term_text(pr[0]), pr[1]) for pr in model.top_k(tid=1)]"
      ]
    },
    {
      "cell_type": "markdown",
      "metadata": {
        "deletable": true,
        "editable": true,
        "id": "daKK0jm-qosX"
      },
      "source": [
        "We can pretty clearly see that this particular dataset was about two major issues: smoking in public and part time jobs for students. This dataset is actually a collection of essays written by students, and there just so happen to be two different topics they can choose from!\n",
        "\n",
        "The topics are pretty clear in this case, but in some cases it is also useful to score the terms in a topic using some function of the probability of the word in the topic and the probability of the word in the other topics. Intuitively, we might want to select words from each topic that best reflect that topic's content by picking words that both have high probability in that topic **and** have low probability in the other topics. In other words, we want to balance between high probability terms and highly specific terms (this is kind of like a tf-idf weighting). One such scoring function is provided by the toolkit in `BLTermScorer`, which implements a scoring function proposed by Blei and Lafferty."
      ]
    },
    {
      "cell_type": "code",
      "execution_count": 17,
      "metadata": {
        "deletable": true,
        "editable": true,
        "id": "WeEM39Neqos-",
        "outputId": "f8f8e2e2-428a-4ac8-8a82-cc47bbb9e1dc",
        "colab": {
          "base_uri": "https://localhost:8080/"
        }
      },
      "outputs": [
        {
          "output_type": "execute_result",
          "data": {
            "text/plain": [
              "[('job', 0.34822034178481953),\n",
              " ('part', 0.313110533525486),\n",
              " ('student', 0.2832891581909065),\n",
              " ('colleg', 0.20808984925341356),\n",
              " ('time', 0.17796723381494317),\n",
              " ('money', 0.16234670384226768),\n",
              " ('work', 0.1558539350348198),\n",
              " ('studi', 0.08228285083986764),\n",
              " ('learn', 0.06491899371071641),\n",
              " ('experi', 0.054945232607250816)]"
            ]
          },
          "metadata": {},
          "execution_count": 17
        }
      ],
      "source": [
        "scorer = metapy.topics.BLTermScorer(model)\n",
        "[(fidx.term_text(pr[0]), pr[1]) for pr in model.top_k(tid=0, scorer=scorer)]"
      ]
    },
    {
      "cell_type": "code",
      "execution_count": 18,
      "metadata": {
        "deletable": true,
        "editable": true,
        "id": "-5LT1UV3qos_",
        "outputId": "35843739-a279-464a-883f-46435520c294",
        "colab": {
          "base_uri": "https://localhost:8080/"
        }
      },
      "outputs": [
        {
          "output_type": "execute_result",
          "data": {
            "text/plain": [
              "[('smoke', 0.8741650110576629),\n",
              " ('restaur', 0.31746102931732345),\n",
              " ('smoker', 0.20060288327156517),\n",
              " ('ban', 0.12853045561809617),\n",
              " ('cigarett', 0.06557610093408339),\n",
              " ('non', 0.06128426198079873),\n",
              " ('complet', 0.06105378146115514),\n",
              " ('japan', 0.05846477556972651),\n",
              " ('health', 0.05054837802522116),\n",
              " ('seat', 0.045339924868740056)]"
            ]
          },
          "metadata": {},
          "execution_count": 18
        }
      ],
      "source": [
        "[(fidx.term_text(pr[0]), pr[1]) for pr in model.top_k(tid=1, scorer=scorer)]"
      ]
    },
    {
      "cell_type": "markdown",
      "metadata": {
        "deletable": true,
        "editable": true,
        "id": "L-NkM-Y8qotB"
      },
      "source": [
        "Here we can see that the uninformative word stem \"think\" was downweighted from the word list from each topic, since it had relatively high probability in either topic."
      ]
    },
    {
      "cell_type": "markdown",
      "metadata": {
        "deletable": true,
        "editable": true,
        "id": "SaWdFanIqotB"
      },
      "source": [
        "We can also see the inferred topic distribution for each document."
      ]
    },
    {
      "cell_type": "code",
      "execution_count": 19,
      "metadata": {
        "deletable": true,
        "editable": true,
        "id": "5ZoZF6W6qotC",
        "outputId": "bc567049-407d-4a21-c1d2-aa382e2a2dc4",
        "colab": {
          "base_uri": "https://localhost:8080/"
        }
      },
      "outputs": [
        {
          "output_type": "execute_result",
          "data": {
            "text/plain": [
              "<metapy.stats.Multinomial {0: 0.978659, 1: 0.021341}>"
            ]
          },
          "metadata": {},
          "execution_count": 19
        }
      ],
      "source": [
        "model.topic_distribution(0)"
      ]
    },
    {
      "cell_type": "markdown",
      "metadata": {
        "deletable": true,
        "editable": true,
        "id": "D0pTZtgOqotC"
      },
      "source": [
        "It looks like our first document was written by a student who chose the part-time job essay topic..."
      ]
    },
    {
      "cell_type": "code",
      "execution_count": 20,
      "metadata": {
        "deletable": true,
        "editable": true,
        "id": "H27KsAp5qotC",
        "outputId": "b0123eed-660c-4e3c-ec31-0a1e08681afc",
        "colab": {
          "base_uri": "https://localhost:8080/"
        }
      },
      "outputs": [
        {
          "output_type": "execute_result",
          "data": {
            "text/plain": [
              "<metapy.stats.Multinomial {0: 0.021203, 1: 0.978797}>"
            ]
          },
          "metadata": {},
          "execution_count": 20
        }
      ],
      "source": [
        "model.topic_distribution(900)"
      ]
    },
    {
      "cell_type": "markdown",
      "metadata": {
        "deletable": true,
        "editable": true,
        "id": "w4_WPXWHqotE"
      },
      "source": [
        "...whereas this document looks like it was written by a student who chose the public smoking essay topic."
      ]
    },
    {
      "cell_type": "markdown",
      "metadata": {
        "collapsed": true,
        "deletable": true,
        "editable": true,
        "id": "XoNd1q2VqotE"
      },
      "source": [
        "We can also infer topics for a brand new document. First, let's create the document and use the forward index we loaded before to convert it to a feature vector:"
      ]
    },
    {
      "cell_type": "code",
      "execution_count": 21,
      "metadata": {
        "collapsed": true,
        "deletable": true,
        "editable": true,
        "id": "jhRu_AHZqotH"
      },
      "outputs": [],
      "source": [
        "doc = metapy.index.Document()\n",
        "doc.content(\"I think smoking in public is bad for others' health.\")\n",
        "fvec = fidx.tokenize(doc)"
      ]
    },
    {
      "cell_type": "markdown",
      "metadata": {
        "deletable": true,
        "editable": true,
        "id": "pExWXX0MqotK"
      },
      "source": [
        "Now, let's load a topic model inferencer that uses the same CVB inference method we used earlier:"
      ]
    },
    {
      "cell_type": "code",
      "execution_count": 22,
      "metadata": {
        "deletable": true,
        "editable": true,
        "id": "mEoOwrqbqotw"
      },
      "outputs": [],
      "source": [
        "inferencer = metapy.topics.CVBInferencer('lda-cvb0.phi.bin', alpha=1.0)"
      ]
    },
    {
      "cell_type": "markdown",
      "metadata": {
        "collapsed": true,
        "deletable": true,
        "editable": true,
        "id": "eaz0duD2qotx"
      },
      "source": [
        "Now, let's infer the topic proportions for the new document:"
      ]
    },
    {
      "cell_type": "code",
      "execution_count": 23,
      "metadata": {
        "deletable": true,
        "editable": true,
        "id": "OoLeKpQNqotx",
        "outputId": "86aa2776-05a2-4028-cf45-b742441ecee5",
        "colab": {
          "base_uri": "https://localhost:8080/"
        }
      },
      "outputs": [
        {
          "output_type": "stream",
          "name": "stdout",
          "text": [
            "<metapy.stats.Multinomial {0: 0.185608, 1: 0.814392}>\n"
          ]
        }
      ],
      "source": [
        "proportions = inferencer.infer(fvec, max_iters=20, convergence=1e-4)\n",
        "print(proportions)"
      ]
    }
  ],
  "metadata": {
    "kernelspec": {
      "display_name": "Python 3.8.10 ('venv': venv)",
      "language": "python",
      "name": "python3"
    },
    "language_info": {
      "codemirror_mode": {
        "name": "ipython",
        "version": 3
      },
      "file_extension": ".py",
      "mimetype": "text/x-python",
      "name": "python",
      "nbconvert_exporter": "python",
      "pygments_lexer": "ipython3",
      "version": "3.8.10"
    },
    "vscode": {
      "interpreter": {
        "hash": "1b32ce2ef2cf43bd49542c1d6f40df2390cf5e4ba090c99d923ccca864eaed4d"
      }
    },
    "colab": {
      "provenance": [],
      "include_colab_link": true
    }
  },
  "nbformat": 4,
  "nbformat_minor": 0
}