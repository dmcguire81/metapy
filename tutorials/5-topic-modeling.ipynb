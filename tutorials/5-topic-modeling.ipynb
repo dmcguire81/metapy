{
  "cells": [
    {
      "cell_type": "markdown",
      "metadata": {
        "id": "view-in-github",
        "colab_type": "text"
      },
      "source": [
        "<a href=\"https://colab.research.google.com/github/dmcguire81/metapy/blob/master/tutorials/5-topic-modeling.ipynb\" target=\"_parent\"><img src=\"https://colab.research.google.com/assets/colab-badge.svg\" alt=\"Open In Colab\"/></a>"
      ]
    },
    {
      "cell_type": "code",
      "source": [
        "%%capture\n",
        "%pip install https://github.com/dmcguire81/metapy/releases/download/v0.2.14/metapy-0.2.14-cp37-cp37m-manylinux_2_24_x86_64.whl"
      ],
      "metadata": {
        "id": "GjI8M5cgqs5v"
      },
      "execution_count": 1,
      "outputs": []
    },
    {
      "cell_type": "markdown",
      "metadata": {
        "deletable": true,
        "editable": true,
        "id": "XHlilGd5qopN"
      },
      "source": [
        "First, let's import the Python bindings, as usual."
      ]
    },
    {
      "cell_type": "code",
      "execution_count": 2,
      "metadata": {
        "collapsed": true,
        "deletable": true,
        "editable": true,
        "id": "d3hFUc4Vqop2"
      },
      "outputs": [],
      "source": [
        "import metapy"
      ]
    },
    {
      "cell_type": "code",
      "execution_count": 3,
      "metadata": {
        "deletable": true,
        "editable": true,
        "colab": {
          "base_uri": "https://localhost:8080/",
          "height": 36
        },
        "id": "f_6WPSmUqop5",
        "outputId": "a82a5778-3a6e-4124-9152-b30e26aa8403"
      },
      "outputs": [
        {
          "output_type": "execute_result",
          "data": {
            "text/plain": [
              "'0.2.14'"
            ],
            "application/vnd.google.colaboratory.intrinsic+json": {
              "type": "string"
            }
          },
          "metadata": {},
          "execution_count": 3
        }
      ],
      "source": [
        "metapy.__version__ # you will want your version to be >= to this"
      ]
    },
    {
      "cell_type": "markdown",
      "metadata": {
        "deletable": true,
        "editable": true,
        "id": "JmH7e0QUqop8"
      },
      "source": [
        "If you would like to, you can inform MeTA to output log data to stderr like so:"
      ]
    },
    {
      "cell_type": "code",
      "execution_count": 4,
      "metadata": {
        "collapsed": true,
        "deletable": true,
        "editable": true,
        "id": "CuQf-zboqoqA"
      },
      "outputs": [],
      "source": [
        "metapy.log_to_stderr()"
      ]
    },
    {
      "cell_type": "markdown",
      "metadata": {
        "deletable": true,
        "editable": true,
        "id": "rgoWFDV8qoqC"
      },
      "source": [
        "Now, let's download a list of stopwords and a sample dataset to begin exploring MeTA's topic models."
      ]
    },
    {
      "cell_type": "code",
      "execution_count": 5,
      "metadata": {
        "deletable": true,
        "editable": true,
        "id": "wvVDnapVqoqo"
      },
      "outputs": [],
      "source": [
        "%%capture\n",
        "!wget -N https://raw.githubusercontent.com/meta-toolkit/meta/master/data/lemur-stopwords.txt"
      ]
    },
    {
      "cell_type": "code",
      "execution_count": 6,
      "metadata": {
        "deletable": true,
        "editable": true,
        "id": "WdQiSG4tqoqs"
      },
      "outputs": [],
      "source": [
        "%%capture\n",
        "!wget -N https://meta-toolkit.org/data/2016-01-26/ceeaus.tar.gz\n",
        "!tar xf ceeaus.tar.gz"
      ]
    },
    {
      "cell_type": "markdown",
      "metadata": {
        "deletable": true,
        "editable": true,
        "id": "dBgxwuvlqoqu"
      },
      "source": [
        "We will need to index our data to proceed. We eventually want to be able to extract the bag-of-words representation for our individual documents, so we will want a `ForwardIndex` in this case."
      ]
    },
    {
      "cell_type": "code",
      "source": [
        "%%capture\n",
        "!wget -N https://raw.githubusercontent.com/dmcguire81/metapy/master/tutorials/ceeaus-config.toml"
      ],
      "metadata": {
        "id": "LP4WGHFprVF1"
      },
      "execution_count": 7,
      "outputs": []
    },
    {
      "cell_type": "code",
      "execution_count": 8,
      "metadata": {
        "deletable": true,
        "editable": true,
        "colab": {
          "base_uri": "https://localhost:8080/"
        },
        "id": "VFXWdRQ9qoqy",
        "outputId": "cb58c4fe-a970-41ca-dbca-52b3a8999c8c"
      },
      "outputs": [
        {
          "output_type": "stream",
          "name": "stderr",
          "text": [
            " > Counting lines in file: [=================================] 100% ETA 00:00:00 \n",
            "1669441892: [info]     Creating forward index: ceeaus-idx/fwd (/metapy/deps/meta/src/index/forward_index.cpp:239)\n",
            " > Tokenizing Docs: [========================================] 100% ETA 00:00:00 \n",
            " > Merging: [================================================] 100% ETA 00:00:00 \n",
            "1669441893: [info]     Done creating index: ceeaus-idx/fwd (/metapy/deps/meta/src/index/forward_index.cpp:278)\n"
          ]
        }
      ],
      "source": [
        "fidx = metapy.index.make_forward_index('ceeaus-config.toml')"
      ]
    },
    {
      "cell_type": "markdown",
      "metadata": {
        "deletable": true,
        "editable": true,
        "id": "cFAbL4cdqoq0"
      },
      "source": [
        "Just like in classification, the feature set used for the topic modeling will be the feature set used at the time of indexing, so if you want to play with a different set of features (like bigram words), you will need to re-index your data.\n",
        "\n",
        "For now, we've just stuck with the default filter chain for unigram words, so we're operating in the traditional bag-of-words space.\n",
        "\n",
        "Let's load our documents into memory to run the topic model inference now."
      ]
    },
    {
      "cell_type": "code",
      "execution_count": 9,
      "metadata": {
        "deletable": true,
        "editable": true,
        "colab": {
          "base_uri": "https://localhost:8080/"
        },
        "id": "eXMRYJ0yqorb",
        "outputId": "caca98f4-d063-4489-919c-02158c4373aa"
      },
      "outputs": [
        {
          "output_type": "stream",
          "name": "stderr",
          "text": [
            " \r > Loading instances into memory: [==========================] 100% ETA 00:00:00 \n"
          ]
        }
      ],
      "source": [
        "dset = metapy.learn.Dataset(fidx)"
      ]
    },
    {
      "cell_type": "markdown",
      "metadata": {
        "deletable": true,
        "editable": true,
        "id": "hJrZ9-Diqord"
      },
      "source": [
        "Now, let's try to find some topics for this dataset. To do so, we're going to use a generative model called a topic model.\n",
        "\n",
        "There are many different topic models in the literature, but the most commonly used topic model is Latent Dirichlet Allocation. Here, we propose that there are K topics (represented with a categorical distribution over words) $\\phi_k$ from which all of our documents are genereated. These K topics are modeled as being sampled from a Dirichlet distribution with parameter $\\vec{\\alpha}$. Then, to generate a document $d$, we first sample a distribution over the K topics $\\theta_d$ from another Dirichlet distribution with parameter $\\vec{\\beta}$. Then, for each word in this document, we first sample a topic identifier $z \\sim \\theta_d$ and then the word by drawing from the topic we selected ($w \\sim \\phi_z$). Refer to the [Wikipedia article on LDA](https://en.wikipedia.org/wiki/Latent_Dirichlet_allocation) for more information.\n",
        "\n",
        "The goal of running inference for an LDA model is to infer the latent variables $\\phi_k$ and $\\theta_d$ for all of the $K$ topics and $D$ documents, respectively. MeTA provides a number of different inference algorithms for LDA, as each one entails a different set of trade-offs (inference in LDA is intractable, so all inference algorithms are approximations; different algorithms entail different approximation guarantees, running times, and required memroy consumption). For now, let's run a Variational Infernce algorithm called CVB0 to find two topics. (In practice you will likely be finding many more topics than just two, but this is a very small toy dataset.)"
      ]
    },
    {
      "cell_type": "code",
      "execution_count": 10,
      "metadata": {
        "deletable": true,
        "editable": true,
        "colab": {
          "base_uri": "https://localhost:8080/"
        },
        "id": "XpByUUK8qorg",
        "outputId": "a626eba8-d89a-4e27-cf47-b86fa73b8f76"
      },
      "outputs": [
        {
          "output_type": "stream",
          "name": "stderr",
          "text": [
            "Initialization: [============================================] 100% ETA 00:00:00 \n",
            "Iteration 1 maximum change in gamma: 1.82245                                    \n",
            "Iteration 2 maximum change in gamma: 0.473407                                   \n",
            "Iteration 3 maximum change in gamma: 0.327967                                   \n",
            "Iteration 4 maximum change in gamma: 0.576433                                   \n",
            "Iteration 5 maximum change in gamma: 0.657188                                   \n",
            "Iteration 6 maximum change in gamma: 1.00488                                    \n",
            "Iteration 7 maximum change in gamma: 1.35403                                    \n",
            "Iteration 8 maximum change in gamma: 1.4486                                     \n",
            "Iteration 9 maximum change in gamma: 1.51951                                    \n",
            "Iteration 10 maximum change in gamma: 1.43066                                   \n",
            "Iteration 11 maximum change in gamma: 1.32694                                   \n",
            "Iteration 12 maximum change in gamma: 1.20058                                   \n",
            "Iteration 13 maximum change in gamma: 0.795172                                  \n",
            "Iteration 14 maximum change in gamma: 0.664636                                  \n",
            "Iteration 15 maximum change in gamma: 0.587391                                  \n",
            "Iteration 16 maximum change in gamma: 0.515026                                  \n",
            "Iteration 17 maximum change in gamma: 0.456413                                  \n",
            "Iteration 18 maximum change in gamma: 0.371562                                  \n",
            "Iteration 19 maximum change in gamma: 0.318128                                  \n",
            "Iteration 20 maximum change in gamma: 0.280634                                  \n",
            "Iteration 21 maximum change in gamma: 0.20857                                   \n",
            "Iteration 22 maximum change in gamma: 0.192366                                  \n",
            "Iteration 23 maximum change in gamma: 0.203947                                  \n",
            "Iteration 24 maximum change in gamma: 0.206473                                  \n",
            "Iteration 25 maximum change in gamma: 0.181874                                  \n",
            "Iteration 26 maximum change in gamma: 0.139509                                  \n",
            "Iteration 27 maximum change in gamma: 0.113387                                  \n",
            "Iteration 28 maximum change in gamma: 0.100233                                  \n",
            "Iteration 29 maximum change in gamma: 0.0846799                                 \n",
            "Iteration 30 maximum change in gamma: 0.0687169                                 \n",
            "Iteration 31 maximum change in gamma: 0.0578043                                 \n",
            "Iteration 32 maximum change in gamma: 0.053414                                  \n",
            "Iteration 33 maximum change in gamma: 0.0524718                                 \n",
            "Iteration 34 maximum change in gamma: 0.0557916                                 \n",
            "Iteration 35 maximum change in gamma: 0.058648                                  \n",
            "Iteration 36 maximum change in gamma: 0.0608388                                 \n",
            "Iteration 37 maximum change in gamma: 0.0621724                                 \n",
            "Iteration 38 maximum change in gamma: 0.0624936                                 \n",
            "Iteration 39 maximum change in gamma: 0.0617086                                 \n",
            "Iteration 40 maximum change in gamma: 0.0598053                                 \n",
            "Iteration 41 maximum change in gamma: 0.0568616                                 \n",
            "Iteration 42 maximum change in gamma: 0.053038                                  \n",
            "Iteration 43 maximum change in gamma: 0.0485568                                 \n",
            "Iteration 44 maximum change in gamma: 0.0436711                                 \n",
            "Iteration 45 maximum change in gamma: 0.0386327                                 \n",
            "Iteration 46 maximum change in gamma: 0.0336645                                 \n",
            "Iteration 47 maximum change in gamma: 0.0289432                                 \n",
            "Iteration 48 maximum change in gamma: 0.0245921                                 \n",
            "Iteration 49 maximum change in gamma: 0.0206834                                 \n",
            "Iteration 50 maximum change in gamma: 0.0172459                                 \n",
            "Iteration 51 maximum change in gamma: 0.0142753                                 \n",
            "Iteration 52 maximum change in gamma: 0.0134103                                 \n",
            "Iteration 53 maximum change in gamma: 0.013112                                  \n",
            "Iteration 54 maximum change in gamma: 0.0128002                                 \n",
            "Iteration 55 maximum change in gamma: 0.0124763                                 \n",
            "Iteration 56 maximum change in gamma: 0.0121416                                 \n",
            "Iteration 57 maximum change in gamma: 0.0117976                                 \n",
            "Iteration 58 maximum change in gamma: 0.0114458                                 \n",
            "Iteration 59 maximum change in gamma: 0.0110878                                 \n",
            "Iteration 60 maximum change in gamma: 0.0107249                                 \n",
            "Iteration 61 maximum change in gamma: 0.0103588                                 \n",
            "Iteration 62 maximum change in gamma: 0.0099909                                 \n",
            "Iteration 63 maximum change in gamma: 0.00962257                                \n",
            "Iteration 64 maximum change in gamma: 0.00925517                                \n",
            "Iteration 65 maximum change in gamma: 0.00888998                                \n",
            "Iteration 66 maximum change in gamma: 0.00852818                                \n",
            "Iteration 67 maximum change in gamma: 0.00817087                                \n",
            "Iteration 68 maximum change in gamma: 0.00781906                                \n",
            "Iteration 69 maximum change in gamma: 0.00747364                                \n",
            "Iteration 70 maximum change in gamma: 0.00713543                                \n",
            "Iteration 71 maximum change in gamma: 0.00680513                                \n",
            "Iteration 72 maximum change in gamma: 0.00648334                                \n",
            "Iteration 73 maximum change in gamma: 0.00617058                                \n",
            "Iteration 74 maximum change in gamma: 0.00586727                                \n",
            "Iteration 75 maximum change in gamma: 0.00557375                                \n",
            "Iteration 76 maximum change in gamma: 0.00529025                                \n",
            "Iteration 77 maximum change in gamma: 0.00501697                                \n",
            "Iteration 78 maximum change in gamma: 0.004754                                  \n",
            "Iteration 79 maximum change in gamma: 0.00450138                                \n",
            "Iteration 80 maximum change in gamma: 0.0042591                                 \n",
            "Iteration 81 maximum change in gamma: 0.00402708                                \n",
            "Iteration 82 maximum change in gamma: 0.00380522                                \n",
            "Iteration 83 maximum change in gamma: 0.00359334                                \n",
            "Iteration 84 maximum change in gamma: 0.00339127                                \n",
            "Iteration 85 maximum change in gamma: 0.00319877                                \n",
            "Iteration 86 maximum change in gamma: 0.00301562                                \n",
            "Iteration 87 maximum change in gamma: 0.00284153                                \n",
            "Iteration 88 maximum change in gamma: 0.00267623                                \n",
            "Iteration 89 maximum change in gamma: 0.00251943                                \n",
            "Iteration 90 maximum change in gamma: 0.00237081                                \n",
            "Iteration 91 maximum change in gamma: 0.00223008                                \n",
            "Iteration 92 maximum change in gamma: 0.00209692                                \n",
            "Iteration 93 maximum change in gamma: 0.00197102                                \n",
            "Iteration 94 maximum change in gamma: 0.00185206                                \n",
            "Iteration 95 maximum change in gamma: 0.00173973                                \n",
            "Iteration 96 maximum change in gamma: 0.00163374                                \n",
            "Iteration 97 maximum change in gamma: 0.00153379                                \n",
            "Iteration 98 maximum change in gamma: 0.00143957                                \n",
            "Iteration 99 maximum change in gamma: 0.00135081                                \n",
            "Iteration 100 maximum change in gamma: 0.00126723                               \n",
            "Iteration 101 maximum change in gamma: 0.00118857                               \n",
            "Iteration 102 maximum change in gamma: 0.00111456                               \n",
            "Iteration 103 maximum change in gamma: 0.00104496                               \n",
            "Iteration 104 maximum change in gamma: 0.000979536                              \n",
            "1669441899: [info]     Finished maximum iterations, or found convergence! (/metapy/deps/meta/src/topics/lda_cvb.cpp:60)\n"
          ]
        }
      ],
      "source": [
        "lda_inf = metapy.topics.LDACollapsedVB(dset, num_topics=2, alpha=1.0, beta=0.01)\n",
        "lda_inf.run(num_iters=1000)"
      ]
    },
    {
      "cell_type": "markdown",
      "metadata": {
        "collapsed": true,
        "deletable": true,
        "editable": true,
        "id": "bhSX3ci4qorj"
      },
      "source": [
        "The above ran the CVB0 algorithm for 1000 iterations, or until an algorithm-specific convergence criterion was met. Now let's save the current estimate for our topics and topic proportions."
      ]
    },
    {
      "cell_type": "code",
      "execution_count": 11,
      "metadata": {
        "collapsed": true,
        "deletable": true,
        "editable": true,
        "id": "gj21x6zjqork"
      },
      "outputs": [],
      "source": [
        "lda_inf.save('lda-cvb0')"
      ]
    },
    {
      "cell_type": "markdown",
      "metadata": {
        "deletable": true,
        "editable": true,
        "id": "2tSZBrd-qorl"
      },
      "source": [
        "We can interrogate the topic inference results by using the `TopicModel` query class. Let's load our inference results back in."
      ]
    },
    {
      "cell_type": "code",
      "execution_count": 12,
      "metadata": {
        "deletable": true,
        "editable": true,
        "colab": {
          "base_uri": "https://localhost:8080/"
        },
        "id": "Fp2XphCOqosN",
        "outputId": "6e2d1761-35f0-4298-c816-fbd38fbfeab1"
      },
      "outputs": [
        {
          "output_type": "stream",
          "name": "stderr",
          "text": [
            " \r > Loading topic term probabilities: [=======================] 100% ETA 00:00:00 \n",
            " \r > Loading document topic probabilities: [===================] 100% ETA 00:00:00 \n"
          ]
        }
      ],
      "source": [
        "model = metapy.topics.TopicModel('lda-cvb0')"
      ]
    },
    {
      "cell_type": "markdown",
      "metadata": {
        "deletable": true,
        "editable": true,
        "id": "lOKUfaEEqosP"
      },
      "source": [
        "Now, let's have a look at our topics. A typical way of doing this is to print the top $k$ words in each topic, so let's do that."
      ]
    },
    {
      "cell_type": "code",
      "execution_count": 13,
      "metadata": {
        "deletable": true,
        "editable": true,
        "colab": {
          "base_uri": "https://localhost:8080/"
        },
        "id": "cQXMqXJUqosS",
        "outputId": "d35958e6-e28c-4d29-abd7-b0b0658499ad"
      },
      "outputs": [
        {
          "output_type": "execute_result",
          "data": {
            "text/plain": [
              "[(3341, 0.131104037927063),\n",
              " (3045, 0.05434934835077168),\n",
              " (2677, 0.03678011673524976),\n",
              " (3346, 0.03349265715315878),\n",
              " (281, 0.022530685310436133),\n",
              " (3729, 0.015620493350789287),\n",
              " (1953, 0.01278092492670823),\n",
              " (707, 0.01263507617737916),\n",
              " (592, 0.011987189464605957),\n",
              " (2448, 0.011317746215793184)]"
            ]
          },
          "metadata": {},
          "execution_count": 13
        }
      ],
      "source": [
        "model.top_k(tid=0)"
      ]
    },
    {
      "cell_type": "markdown",
      "metadata": {
        "deletable": true,
        "editable": true,
        "id": "i3yx6PSkqosT"
      },
      "source": [
        "The models operate on term ids instead of raw text strings, so let's convert this to a human readable format by using the vocabulary contained in our `ForwardIndex` to map the term ids to strings."
      ]
    },
    {
      "cell_type": "code",
      "execution_count": 14,
      "metadata": {
        "deletable": true,
        "editable": true,
        "colab": {
          "base_uri": "https://localhost:8080/"
        },
        "id": "5oCdoLN-qosU",
        "outputId": "afa4a720-7eb9-4990-b8aa-58ee3c61fdb4"
      },
      "outputs": [
        {
          "output_type": "execute_result",
          "data": {
            "text/plain": [
              "[('smoke', 0.131104037927063),\n",
              " ('restaur', 0.05434934835077168),\n",
              " ('peopl', 0.03678011673524976),\n",
              " ('smoker', 0.03349265715315878),\n",
              " ('ban', 0.022530685310436133),\n",
              " ('think', 0.015620493350789287),\n",
              " ('japan', 0.01278092492670823),\n",
              " ('complet', 0.01263507617737916),\n",
              " ('cigarett', 0.011987189464605957),\n",
              " ('non', 0.011317746215793184)]"
            ]
          },
          "metadata": {},
          "execution_count": 14
        }
      ],
      "source": [
        "[(fidx.term_text(pr[0]), pr[1]) for pr in model.top_k(tid=0)]"
      ]
    },
    {
      "cell_type": "code",
      "execution_count": 15,
      "metadata": {
        "deletable": true,
        "editable": true,
        "colab": {
          "base_uri": "https://localhost:8080/"
        },
        "id": "UEaGbyAFqosV",
        "outputId": "38098607-b518-4b97-b1f6-007304f6364e"
      },
      "outputs": [
        {
          "output_type": "execute_result",
          "data": {
            "text/plain": [
              "[('time', 0.06705641912649929),\n",
              " ('job', 0.05605927233040223),\n",
              " ('part', 0.05222303729314569),\n",
              " ('student', 0.04642936177478375),\n",
              " ('colleg', 0.0348813900900554),\n",
              " ('work', 0.029067466795057315),\n",
              " ('money', 0.02885020547633855),\n",
              " ('think', 0.022331336604501116),\n",
              " ('import', 0.020755687395793487),\n",
              " ('studi', 0.015483027954764635)]"
            ]
          },
          "metadata": {},
          "execution_count": 15
        }
      ],
      "source": [
        "[(fidx.term_text(pr[0]), pr[1]) for pr in model.top_k(tid=1)]"
      ]
    },
    {
      "cell_type": "markdown",
      "metadata": {
        "deletable": true,
        "editable": true,
        "id": "daKK0jm-qosX"
      },
      "source": [
        "We can pretty clearly see that this particular dataset was about two major issues: smoking in public and part time jobs for students. This dataset is actually a collection of essays written by students, and there just so happen to be two different topics they can choose from!\n",
        "\n",
        "The topics are pretty clear in this case, but in some cases it is also useful to score the terms in a topic using some function of the probability of the word in the topic and the probability of the word in the other topics. Intuitively, we might want to select words from each topic that best reflect that topic's content by picking words that both have high probability in that topic **and** have low probability in the other topics. In other words, we want to balance between high probability terms and highly specific terms (this is kind of like a tf-idf weighting). One such scoring function is provided by the toolkit in `BLTermScorer`, which implements a scoring function proposed by Blei and Lafferty."
      ]
    },
    {
      "cell_type": "code",
      "execution_count": 16,
      "metadata": {
        "deletable": true,
        "editable": true,
        "colab": {
          "base_uri": "https://localhost:8080/"
        },
        "id": "WeEM39Neqos-",
        "outputId": "8a163481-4899-41d7-f020-97ca53219002"
      },
      "outputs": [
        {
          "output_type": "execute_result",
          "data": {
            "text/plain": [
              "[('smoke', 0.8741649117009036),\n",
              " ('restaur', 0.3174629035659571),\n",
              " ('smoker', 0.20060276513583242),\n",
              " ('ban', 0.1285305927149838),\n",
              " ('cigarett', 0.06557610155520721),\n",
              " ('non', 0.06128425189479603),\n",
              " ('complet', 0.06105374081168069),\n",
              " ('japan', 0.05846309534398397),\n",
              " ('health', 0.05054837315437988),\n",
              " ('seat', 0.045339919921592475)]"
            ]
          },
          "metadata": {},
          "execution_count": 16
        }
      ],
      "source": [
        "scorer = metapy.topics.BLTermScorer(model)\n",
        "[(fidx.term_text(pr[0]), pr[1]) for pr in model.top_k(tid=0, scorer=scorer)]"
      ]
    },
    {
      "cell_type": "code",
      "execution_count": 17,
      "metadata": {
        "deletable": true,
        "editable": true,
        "colab": {
          "base_uri": "https://localhost:8080/"
        },
        "id": "-5LT1UV3qos_",
        "outputId": "2cdd47a8-7c85-430f-9cef-7d411d18d681"
      },
      "outputs": [
        {
          "output_type": "execute_result",
          "data": {
            "text/plain": [
              "[('job', 0.34822035155943354),\n",
              " ('part', 0.313110580762872),\n",
              " ('student', 0.2832891809207996),\n",
              " ('colleg', 0.20808986731897416),\n",
              " ('time', 0.17797667989825072),\n",
              " ('money', 0.16234674183749842),\n",
              " ('work', 0.15585204614058856),\n",
              " ('studi', 0.08228285335580843),\n",
              " ('learn', 0.06491904130151305),\n",
              " ('experi', 0.05494478251960788)]"
            ]
          },
          "metadata": {},
          "execution_count": 17
        }
      ],
      "source": [
        "[(fidx.term_text(pr[0]), pr[1]) for pr in model.top_k(tid=1, scorer=scorer)]"
      ]
    },
    {
      "cell_type": "markdown",
      "metadata": {
        "deletable": true,
        "editable": true,
        "id": "L-NkM-Y8qotB"
      },
      "source": [
        "Here we can see that the uninformative word stem \"think\" was downweighted from the word list from each topic, since it had relatively high probability in either topic."
      ]
    },
    {
      "cell_type": "markdown",
      "metadata": {
        "deletable": true,
        "editable": true,
        "id": "SaWdFanIqotB"
      },
      "source": [
        "We can also see the inferred topic distribution for each document."
      ]
    },
    {
      "cell_type": "code",
      "execution_count": 18,
      "metadata": {
        "deletable": true,
        "editable": true,
        "colab": {
          "base_uri": "https://localhost:8080/"
        },
        "id": "5ZoZF6W6qotC",
        "outputId": "45aae536-d7e0-40a3-da4c-42170979be74"
      },
      "outputs": [
        {
          "output_type": "execute_result",
          "data": {
            "text/plain": [
              "<metapy.stats.Multinomial {0: 0.021341, 1: 0.978659}>"
            ]
          },
          "metadata": {},
          "execution_count": 18
        }
      ],
      "source": [
        "model.topic_distribution(0)"
      ]
    },
    {
      "cell_type": "markdown",
      "metadata": {
        "deletable": true,
        "editable": true,
        "id": "D0pTZtgOqotC"
      },
      "source": [
        "It looks like our first document was written by a student who chose the part-time job essay topic..."
      ]
    },
    {
      "cell_type": "code",
      "execution_count": 19,
      "metadata": {
        "deletable": true,
        "editable": true,
        "colab": {
          "base_uri": "https://localhost:8080/"
        },
        "id": "H27KsAp5qotC",
        "outputId": "45fcb508-e858-450a-f690-adc3d4713674"
      },
      "outputs": [
        {
          "output_type": "execute_result",
          "data": {
            "text/plain": [
              "<metapy.stats.Multinomial {0: 0.978797, 1: 0.021203}>"
            ]
          },
          "metadata": {},
          "execution_count": 19
        }
      ],
      "source": [
        "model.topic_distribution(900)"
      ]
    },
    {
      "cell_type": "markdown",
      "metadata": {
        "deletable": true,
        "editable": true,
        "id": "w4_WPXWHqotE"
      },
      "source": [
        "...whereas this document looks like it was written by a student who chose the public smoking essay topic."
      ]
    },
    {
      "cell_type": "markdown",
      "metadata": {
        "collapsed": true,
        "deletable": true,
        "editable": true,
        "id": "XoNd1q2VqotE"
      },
      "source": [
        "We can also infer topics for a brand new document. First, let's create the document and use the forward index we loaded before to convert it to a feature vector:"
      ]
    },
    {
      "cell_type": "code",
      "execution_count": 20,
      "metadata": {
        "collapsed": true,
        "deletable": true,
        "editable": true,
        "id": "jhRu_AHZqotH"
      },
      "outputs": [],
      "source": [
        "doc = metapy.index.Document()\n",
        "doc.content(\"I think smoking in public is bad for others' health.\")\n",
        "fvec = fidx.tokenize(doc)"
      ]
    },
    {
      "cell_type": "markdown",
      "metadata": {
        "deletable": true,
        "editable": true,
        "id": "pExWXX0MqotK"
      },
      "source": [
        "Now, let's load a topic model inferencer that uses the same CVB inference method we used earlier:"
      ]
    },
    {
      "cell_type": "code",
      "execution_count": 21,
      "metadata": {
        "deletable": true,
        "editable": true,
        "colab": {
          "base_uri": "https://localhost:8080/"
        },
        "id": "mEoOwrqbqotw",
        "outputId": "1cd9a311-da0b-40d0-8eee-0b6d0314d219"
      },
      "outputs": [
        {
          "output_type": "stream",
          "name": "stderr",
          "text": [
            " > Loading topic term probabilities: [=======================] 100% ETA 00:00:00 \n"
          ]
        }
      ],
      "source": [
        "inferencer = metapy.topics.CVBInferencer('lda-cvb0.phi.bin', alpha=1.0)"
      ]
    },
    {
      "cell_type": "markdown",
      "metadata": {
        "collapsed": true,
        "deletable": true,
        "editable": true,
        "id": "eaz0duD2qotx"
      },
      "source": [
        "Now, let's infer the topic proportions for the new document:"
      ]
    },
    {
      "cell_type": "code",
      "execution_count": 22,
      "metadata": {
        "deletable": true,
        "editable": true,
        "colab": {
          "base_uri": "https://localhost:8080/"
        },
        "id": "OoLeKpQNqotx",
        "outputId": "e69b663c-a063-4299-fba7-54bbee2dbe09"
      },
      "outputs": [
        {
          "output_type": "stream",
          "name": "stdout",
          "text": [
            "<metapy.stats.Multinomial {0: 0.814392, 1: 0.185608}>\n"
          ]
        }
      ],
      "source": [
        "proportions = inferencer.infer(fvec, max_iters=20, convergence=1e-4)\n",
        "print(proportions)"
      ]
    }
  ],
  "metadata": {
    "kernelspec": {
      "display_name": "Python 3.8.10 ('venv': venv)",
      "language": "python",
      "name": "python3"
    },
    "language_info": {
      "codemirror_mode": {
        "name": "ipython",
        "version": 3
      },
      "file_extension": ".py",
      "mimetype": "text/x-python",
      "name": "python",
      "nbconvert_exporter": "python",
      "pygments_lexer": "ipython3",
      "version": "3.8.10"
    },
    "vscode": {
      "interpreter": {
        "hash": "1b32ce2ef2cf43bd49542c1d6f40df2390cf5e4ba090c99d923ccca864eaed4d"
      }
    },
    "colab": {
      "provenance": [],
      "include_colab_link": true
    }
  },
  "nbformat": 4,
  "nbformat_minor": 0
}