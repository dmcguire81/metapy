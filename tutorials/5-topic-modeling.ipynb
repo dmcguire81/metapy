{
  "cells": [
    {
      "cell_type": "markdown",
      "metadata": {
        "id": "view-in-github",
        "colab_type": "text"
      },
      "source": [
        "<a href=\"https://colab.research.google.com/github/dmcguire81/metapy/blob/master/tutorials/5-topic-modeling.ipynb\" target=\"_parent\"><img src=\"https://colab.research.google.com/assets/colab-badge.svg\" alt=\"Open In Colab\"/></a>"
      ]
    },
    {
      "cell_type": "code",
      "source": [
        "from google.colab import drive\n",
        "drive.mount('/content/drive')"
      ],
      "metadata": {
        "colab": {
          "base_uri": "https://localhost:8080/"
        },
        "id": "26WHTeN7qrUO",
        "outputId": "2f43d506-d832-4a43-f6e1-84b7e9e71f66"
      },
      "execution_count": 1,
      "outputs": [
        {
          "output_type": "stream",
          "name": "stdout",
          "text": [
            "Drive already mounted at /content/drive; to attempt to forcibly remount, call drive.mount(\"/content/drive\", force_remount=True).\n"
          ]
        }
      ]
    },
    {
      "cell_type": "code",
      "source": [
        "%%capture\n",
        "# NOTE: this assumes you've uploaded a Python 3.7 build from our fork to Drive\n",
        "# TODO: replace this with a stock install when it's published somewhere\n",
        "%pip install /content/drive/MyDrive/metapy-0.2.13-cp37-cp37m-manylinux_2_24_x86_64.whl"
      ],
      "metadata": {
        "id": "GjI8M5cgqs5v"
      },
      "execution_count": 2,
      "outputs": []
    },
    {
      "cell_type": "markdown",
      "metadata": {
        "deletable": true,
        "editable": true,
        "id": "XHlilGd5qopN"
      },
      "source": [
        "First, let's import the Python bindings, as usual."
      ]
    },
    {
      "cell_type": "code",
      "execution_count": 3,
      "metadata": {
        "collapsed": true,
        "deletable": true,
        "editable": true,
        "id": "d3hFUc4Vqop2"
      },
      "outputs": [],
      "source": [
        "import metapy"
      ]
    },
    {
      "cell_type": "code",
      "execution_count": 4,
      "metadata": {
        "deletable": true,
        "editable": true,
        "colab": {
          "base_uri": "https://localhost:8080/",
          "height": 36
        },
        "id": "f_6WPSmUqop5",
        "outputId": "ee66e26d-ac21-40f6-b1c9-af0d34bd1af6"
      },
      "outputs": [
        {
          "output_type": "execute_result",
          "data": {
            "text/plain": [
              "'0.2.13'"
            ],
            "application/vnd.google.colaboratory.intrinsic+json": {
              "type": "string"
            }
          },
          "metadata": {},
          "execution_count": 4
        }
      ],
      "source": [
        "metapy.__version__ # you will want your version to be >= to this"
      ]
    },
    {
      "cell_type": "markdown",
      "metadata": {
        "deletable": true,
        "editable": true,
        "id": "JmH7e0QUqop8"
      },
      "source": [
        "If you would like to, you can inform MeTA to output log data to stderr like so:"
      ]
    },
    {
      "cell_type": "code",
      "execution_count": 5,
      "metadata": {
        "collapsed": true,
        "deletable": true,
        "editable": true,
        "id": "CuQf-zboqoqA"
      },
      "outputs": [],
      "source": [
        "metapy.log_to_stderr()"
      ]
    },
    {
      "cell_type": "markdown",
      "metadata": {
        "deletable": true,
        "editable": true,
        "id": "rgoWFDV8qoqC"
      },
      "source": [
        "Now, let's download a list of stopwords and a sample dataset to begin exploring MeTA's topic models."
      ]
    },
    {
      "cell_type": "code",
      "execution_count": 6,
      "metadata": {
        "deletable": true,
        "editable": true,
        "id": "wvVDnapVqoqo"
      },
      "outputs": [],
      "source": [
        "%%capture\n",
        "!wget -N https://raw.githubusercontent.com/meta-toolkit/meta/master/data/lemur-stopwords.txt"
      ]
    },
    {
      "cell_type": "code",
      "execution_count": 7,
      "metadata": {
        "deletable": true,
        "editable": true,
        "id": "WdQiSG4tqoqs"
      },
      "outputs": [],
      "source": [
        "%%capture\n",
        "!wget -N https://meta-toolkit.org/data/2016-01-26/ceeaus.tar.gz\n",
        "!tar xf ceeaus.tar.gz"
      ]
    },
    {
      "cell_type": "markdown",
      "metadata": {
        "deletable": true,
        "editable": true,
        "id": "dBgxwuvlqoqu"
      },
      "source": [
        "We will need to index our data to proceed. We eventually want to be able to extract the bag-of-words representation for our individual documents, so we will want a `ForwardIndex` in this case."
      ]
    },
    {
      "cell_type": "code",
      "source": [
        "%%capture\n",
        "!wget -N https://raw.githubusercontent.com/dmcguire81/metapy/master/tutorials/ceeaus-config.toml"
      ],
      "metadata": {
        "id": "LP4WGHFprVF1"
      },
      "execution_count": 8,
      "outputs": []
    },
    {
      "cell_type": "code",
      "execution_count": 9,
      "metadata": {
        "deletable": true,
        "editable": true,
        "colab": {
          "base_uri": "https://localhost:8080/"
        },
        "id": "VFXWdRQ9qoqy",
        "outputId": "0645e428-9999-4bc2-87b9-cdcb9f2e27fc"
      },
      "outputs": [
        {
          "output_type": "stream",
          "name": "stderr",
          "text": [
            "1669327682: [info]     Loading index from disk: ceeaus-idx/fwd (/metapy/deps/meta/src/index/forward_index.cpp:171)\n"
          ]
        }
      ],
      "source": [
        "fidx = metapy.index.make_forward_index('ceeaus-config.toml')"
      ]
    },
    {
      "cell_type": "markdown",
      "metadata": {
        "deletable": true,
        "editable": true,
        "id": "cFAbL4cdqoq0"
      },
      "source": [
        "Just like in classification, the feature set used for the topic modeling will be the feature set used at the time of indexing, so if you want to play with a different set of features (like bigram words), you will need to re-index your data.\n",
        "\n",
        "For now, we've just stuck with the default filter chain for unigram words, so we're operating in the traditional bag-of-words space.\n",
        "\n",
        "Let's load our documents into memory to run the topic model inference now."
      ]
    },
    {
      "cell_type": "code",
      "execution_count": 10,
      "metadata": {
        "deletable": true,
        "editable": true,
        "colab": {
          "base_uri": "https://localhost:8080/"
        },
        "id": "eXMRYJ0yqorb",
        "outputId": "610c2486-871e-423d-c9a5-aa28a56b474e"
      },
      "outputs": [
        {
          "output_type": "stream",
          "name": "stderr",
          "text": [
            " \r > Loading instances into memory: [==>                       ]   8% ETA 00:00:00 \r > Loading instances into memory: [==========================] 100% ETA 00:00:00 \n"
          ]
        }
      ],
      "source": [
        "dset = metapy.learn.Dataset(fidx)"
      ]
    },
    {
      "cell_type": "markdown",
      "metadata": {
        "deletable": true,
        "editable": true,
        "id": "hJrZ9-Diqord"
      },
      "source": [
        "Now, let's try to find some topics for this dataset. To do so, we're going to use a generative model called a topic model.\n",
        "\n",
        "There are many different topic models in the literature, but the most commonly used topic model is Latent Dirichlet Allocation. Here, we propose that there are K topics (represented with a categorical distribution over words) $\\phi_k$ from which all of our documents are genereated. These K topics are modeled as being sampled from a Dirichlet distribution with parameter $\\vec{\\alpha}$. Then, to generate a document $d$, we first sample a distribution over the K topics $\\theta_d$ from another Dirichlet distribution with parameter $\\vec{\\beta}$. Then, for each word in this document, we first sample a topic identifier $z \\sim \\theta_d$ and then the word by drawing from the topic we selected ($w \\sim \\phi_z$). Refer to the [Wikipedia article on LDA](https://en.wikipedia.org/wiki/Latent_Dirichlet_allocation) for more information.\n",
        "\n",
        "The goal of running inference for an LDA model is to infer the latent variables $\\phi_k$ and $\\theta_d$ for all of the $K$ topics and $D$ documents, respectively. MeTA provides a number of different inference algorithms for LDA, as each one entails a different set of trade-offs (inference in LDA is intractable, so all inference algorithms are approximations; different algorithms entail different approximation guarantees, running times, and required memroy consumption). For now, let's run a Variational Infernce algorithm called CVB0 to find two topics. (In practice you will likely be finding many more topics than just two, but this is a very small toy dataset.)"
      ]
    },
    {
      "cell_type": "code",
      "execution_count": 11,
      "metadata": {
        "deletable": true,
        "editable": true,
        "colab": {
          "base_uri": "https://localhost:8080/"
        },
        "id": "XpByUUK8qorg",
        "outputId": "362396ca-6516-41f5-e3fc-17eca0cc5e4f"
      },
      "outputs": [
        {
          "output_type": "stream",
          "name": "stderr",
          "text": [
            " \rInitialization: [====>                                       ]  10% ETA 00:00:00 \rInitialization: [============================================] 100% ETA 00:00:00 \n",
            " \rIteration 0: [>                                              ]   1% ETA 00:00:00 \rIteration 0: [===============================================] 100% ETA 00:00:00 \rIteration 1 maximum change in gamma: 1.84723                                    \n",
            "Iteration 2 maximum change in gamma: 0.389899                                   \n",
            "Iteration 3 maximum change in gamma: 0.401561                                   \n",
            "Iteration 4 maximum change in gamma: 0.445217                                   \n",
            "Iteration 5 maximum change in gamma: 0.443734                                   \n",
            "Iteration 6 maximum change in gamma: 0.684708                                   \n",
            "Iteration 7 maximum change in gamma: 0.926404                                   \n",
            "Iteration 8 maximum change in gamma: 1.32359                                    \n",
            "Iteration 9 maximum change in gamma: 1.50535                                    \n",
            "Iteration 10 maximum change in gamma: 1.51559                                   \n",
            "Iteration 11 maximum change in gamma: 1.40395                                   \n",
            "Iteration 12 maximum change in gamma: 1.27322                                   \n",
            "Iteration 13 maximum change in gamma: 1.20826                                   \n",
            "Iteration 14 maximum change in gamma: 0.804716                                  \n",
            "Iteration 15 maximum change in gamma: 0.606864                                  \n",
            "Iteration 16 maximum change in gamma: 0.526453                                  \n",
            "Iteration 17 maximum change in gamma: 0.430462                                  \n",
            "Iteration 18 maximum change in gamma: 0.429768                                  \n",
            "Iteration 19 maximum change in gamma: 0.331052                                  \n",
            "Iteration 20 maximum change in gamma: 0.321285                                  \n",
            "Iteration 21 maximum change in gamma: 0.286957                                  \n",
            "Iteration 22 maximum change in gamma: 0.209431                                  \n",
            "Iteration 23 maximum change in gamma: 0.213757                                  \n",
            "Iteration 24 maximum change in gamma: 0.187335                                  \n",
            "Iteration 25 maximum change in gamma: 0.168373                                  \n",
            "Iteration 26 maximum change in gamma: 0.14117                                   \n",
            "Iteration 27 maximum change in gamma: 0.122217                                  \n",
            "Iteration 28 maximum change in gamma: 0.12135                                   \n",
            "Iteration 29 maximum change in gamma: 0.114544                                  \n",
            "Iteration 30 maximum change in gamma: 0.102662                                  \n",
            "Iteration 31 maximum change in gamma: 0.087559                                  \n",
            "Iteration 32 maximum change in gamma: 0.0714352                                 \n",
            "Iteration 33 maximum change in gamma: 0.0625164                                 \n",
            "Iteration 34 maximum change in gamma: 0.0662203                                 \n",
            "Iteration 35 maximum change in gamma: 0.0690988                                 \n",
            "Iteration 36 maximum change in gamma: 0.0708539                                 \n",
            "Iteration 37 maximum change in gamma: 0.0712397                                 \n",
            "Iteration 38 maximum change in gamma: 0.0701105                                 \n",
            "Iteration 39 maximum change in gamma: 0.0674584                                 \n",
            "Iteration 40 maximum change in gamma: 0.063425                                  \n",
            "Iteration 41 maximum change in gamma: 0.0599932                                 \n",
            "Iteration 42 maximum change in gamma: 0.0617896                                 \n",
            "Iteration 43 maximum change in gamma: 0.0626544                                 \n",
            "Iteration 44 maximum change in gamma: 0.062459                                  \n",
            "Iteration 45 maximum change in gamma: 0.0611452                                 \n",
            "Iteration 46 maximum change in gamma: 0.0587411                                 \n",
            "Iteration 47 maximum change in gamma: 0.0553629                                 \n",
            "Iteration 48 maximum change in gamma: 0.0512011                                 \n",
            "Iteration 49 maximum change in gamma: 0.0464954                                 \n",
            "Iteration 50 maximum change in gamma: 0.0415013                                 \n",
            "Iteration 51 maximum change in gamma: 0.0364602                                 \n",
            "Iteration 52 maximum change in gamma: 0.0315755                                 \n",
            "Iteration 53 maximum change in gamma: 0.0270001                                 \n",
            "Iteration 54 maximum change in gamma: 0.0228339                                 \n",
            "Iteration 55 maximum change in gamma: 0.0191284                                 \n",
            "Iteration 56 maximum change in gamma: 0.0158961                                 \n",
            "Iteration 57 maximum change in gamma: 0.0142198                                 \n",
            "Iteration 58 maximum change in gamma: 0.0137484                                 \n",
            "Iteration 59 maximum change in gamma: 0.0133065                                 \n",
            "Iteration 60 maximum change in gamma: 0.0128912                                 \n",
            "Iteration 61 maximum change in gamma: 0.0125                                    \n",
            "Iteration 62 maximum change in gamma: 0.0121303                                 \n",
            "Iteration 63 maximum change in gamma: 0.0117802                                 \n",
            "Iteration 64 maximum change in gamma: 0.0114478                                 \n",
            "Iteration 65 maximum change in gamma: 0.0111313                                 \n",
            "Iteration 66 maximum change in gamma: 0.0108292                                 \n",
            "Iteration 67 maximum change in gamma: 0.0105402                                 \n",
            "Iteration 68 maximum change in gamma: 0.0102629                                 \n",
            "Iteration 69 maximum change in gamma: 0.00999644                                \n",
            "Iteration 70 maximum change in gamma: 0.00973965                                \n",
            "Iteration 71 maximum change in gamma: 0.00949165                                \n",
            "Iteration 72 maximum change in gamma: 0.00925165                                \n",
            "Iteration 73 maximum change in gamma: 0.00905289                                \n",
            "Iteration 74 maximum change in gamma: 0.00909488                                \n",
            "Iteration 75 maximum change in gamma: 0.00913429                                \n",
            "Iteration 76 maximum change in gamma: 0.00917068                                \n",
            "Iteration 77 maximum change in gamma: 0.00920359                                \n",
            "Iteration 78 maximum change in gamma: 0.00923258                                \n",
            "Iteration 79 maximum change in gamma: 0.00925721                                \n",
            "Iteration 80 maximum change in gamma: 0.00927704                                \n",
            "Iteration 81 maximum change in gamma: 0.00929167                                \n",
            "Iteration 82 maximum change in gamma: 0.00930067                                \n",
            "Iteration 83 maximum change in gamma: 0.00930367                                \n",
            "Iteration 84 maximum change in gamma: 0.00930029                                \n",
            "Iteration 85 maximum change in gamma: 0.00929018                                \n",
            "Iteration 86 maximum change in gamma: 0.00927304                                \n",
            "Iteration 87 maximum change in gamma: 0.00924857                                \n",
            "Iteration 88 maximum change in gamma: 0.00921652                                \n",
            "Iteration 89 maximum change in gamma: 0.00917667                                \n",
            "Iteration 90 maximum change in gamma: 0.00912884                                \n",
            "Iteration 91 maximum change in gamma: 0.0090729                                 \n",
            "Iteration 92 maximum change in gamma: 0.00900876                                \n",
            "Iteration 93 maximum change in gamma: 0.00893636                                \n",
            "Iteration 94 maximum change in gamma: 0.00885572                                \n",
            "Iteration 95 maximum change in gamma: 0.00876688                                \n",
            "Iteration 96 maximum change in gamma: 0.00866994                                \n",
            "Iteration 97 maximum change in gamma: 0.00856504                                \n",
            "Iteration 98 maximum change in gamma: 0.00845237                                \n",
            "Iteration 99 maximum change in gamma: 0.00833219                                \n",
            "Iteration 100 maximum change in gamma: 0.00820476                               \n",
            "Iteration 101 maximum change in gamma: 0.00807041                               \n",
            "Iteration 102 maximum change in gamma: 0.00792951                               \n",
            "Iteration 103 maximum change in gamma: 0.00778245                               \n",
            "Iteration 104 maximum change in gamma: 0.00762967                               \n",
            "Iteration 105 maximum change in gamma: 0.00747161                               \n",
            "Iteration 106 maximum change in gamma: 0.00730877                               \n",
            "Iteration 107 maximum change in gamma: 0.00714164                               \n",
            "Iteration 108 maximum change in gamma: 0.00697072                               \n",
            "Iteration 109 maximum change in gamma: 0.00679656                               \n",
            "Iteration 110 maximum change in gamma: 0.00661966                               \n",
            "Iteration 111 maximum change in gamma: 0.00644056                               \n",
            "Iteration 112 maximum change in gamma: 0.00625979                               \n",
            "Iteration 113 maximum change in gamma: 0.00607786                               \n",
            "Iteration 114 maximum change in gamma: 0.00589527                               \n",
            "Iteration 115 maximum change in gamma: 0.00571251                               \n",
            "Iteration 116 maximum change in gamma: 0.00553005                               \n",
            "Iteration 117 maximum change in gamma: 0.00534835                               \n",
            "Iteration 118 maximum change in gamma: 0.00516783                               \n",
            "Iteration 119 maximum change in gamma: 0.00498888                               \n",
            "Iteration 120 maximum change in gamma: 0.0048119                                \n",
            "Iteration 121 maximum change in gamma: 0.00463721                               \n",
            "Iteration 122 maximum change in gamma: 0.00446515                               \n",
            "Iteration 123 maximum change in gamma: 0.00429599                               \n",
            "Iteration 124 maximum change in gamma: 0.00413001                               \n",
            "Iteration 125 maximum change in gamma: 0.00396743                               \n",
            "Iteration 126 maximum change in gamma: 0.00380844                               \n",
            "Iteration 127 maximum change in gamma: 0.00365324                               \n",
            "Iteration 128 maximum change in gamma: 0.00350196                               \n",
            "Iteration 129 maximum change in gamma: 0.00335474                               \n",
            "Iteration 130 maximum change in gamma: 0.00321165                               \n",
            "Iteration 131 maximum change in gamma: 0.00307279                               \n",
            "Iteration 132 maximum change in gamma: 0.0029382                                \n",
            "Iteration 133 maximum change in gamma: 0.00280792                               \n",
            "Iteration 134 maximum change in gamma: 0.00268196                               \n",
            "Iteration 135 maximum change in gamma: 0.00256032                               \n",
            "Iteration 136 maximum change in gamma: 0.00244297                               \n",
            "Iteration 137 maximum change in gamma: 0.00232988                               \n",
            "Iteration 138 maximum change in gamma: 0.00222102                               \n",
            "Iteration 139 maximum change in gamma: 0.00211631                               \n",
            "Iteration 140 maximum change in gamma: 0.0020157                                \n",
            "Iteration 141 maximum change in gamma: 0.0019191                                \n",
            "Iteration 142 maximum change in gamma: 0.00182643                               \n",
            "Iteration 143 maximum change in gamma: 0.0017376                                \n",
            "Iteration 144 maximum change in gamma: 0.00165252                               \n",
            "Iteration 145 maximum change in gamma: 0.00157109                               \n",
            "Iteration 146 maximum change in gamma: 0.00149319                               \n",
            "Iteration 147 maximum change in gamma: 0.00141873                               \n",
            "Iteration 148 maximum change in gamma: 0.0013476                                \n",
            "Iteration 149 maximum change in gamma: 0.00127969                               \n",
            "Iteration 150 maximum change in gamma: 0.00121488                               \n",
            "Iteration 151 maximum change in gamma: 0.00115307                               \n",
            "Iteration 152 maximum change in gamma: 0.00109415                               \n",
            "Iteration 153 maximum change in gamma: 0.00103801                               \n",
            "Iteration 154 maximum change in gamma: 0.000984539                              \n",
            "1669327691: [info]     Finished maximum iterations, or found convergence! (/metapy/deps/meta/src/topics/lda_cvb.cpp:60)\n"
          ]
        }
      ],
      "source": [
        "lda_inf = metapy.topics.LDACollapsedVB(dset, num_topics=2, alpha=1.0, beta=0.01)\n",
        "lda_inf.run(num_iters=1000)"
      ]
    },
    {
      "cell_type": "markdown",
      "metadata": {
        "collapsed": true,
        "deletable": true,
        "editable": true,
        "id": "bhSX3ci4qorj"
      },
      "source": [
        "The above ran the CVB0 algorithm for 1000 iterations, or until an algorithm-specific convergence criterion was met. Now let's save the current estimate for our topics and topic proportions."
      ]
    },
    {
      "cell_type": "code",
      "execution_count": 12,
      "metadata": {
        "collapsed": true,
        "deletable": true,
        "editable": true,
        "id": "gj21x6zjqork"
      },
      "outputs": [],
      "source": [
        "lda_inf.save('lda-cvb0')"
      ]
    },
    {
      "cell_type": "markdown",
      "metadata": {
        "deletable": true,
        "editable": true,
        "id": "2tSZBrd-qorl"
      },
      "source": [
        "We can interrogate the topic inference results by using the `TopicModel` query class. Let's load our inference results back in."
      ]
    },
    {
      "cell_type": "code",
      "execution_count": 13,
      "metadata": {
        "deletable": true,
        "editable": true,
        "colab": {
          "base_uri": "https://localhost:8080/"
        },
        "id": "Fp2XphCOqosN",
        "outputId": "63773a5b-6a6c-4503-de86-45c992f6243b"
      },
      "outputs": [
        {
          "output_type": "stream",
          "name": "stderr",
          "text": [
            " \r > Loading topic term probabilities: [=======================] 100% ETA 00:00:00 \n",
            " \r > Loading document topic probabilities: [===================] 100% ETA 00:00:00 \n"
          ]
        }
      ],
      "source": [
        "model = metapy.topics.TopicModel('lda-cvb0')"
      ]
    },
    {
      "cell_type": "markdown",
      "metadata": {
        "deletable": true,
        "editable": true,
        "id": "lOKUfaEEqosP"
      },
      "source": [
        "Now, let's have a look at our topics. A typical way of doing this is to print the top $k$ words in each topic, so let's do that."
      ]
    },
    {
      "cell_type": "code",
      "execution_count": 14,
      "metadata": {
        "deletable": true,
        "editable": true,
        "colab": {
          "base_uri": "https://localhost:8080/"
        },
        "id": "cQXMqXJUqosS",
        "outputId": "5c8785dd-aa28-44a9-95bf-80f9f4ce837a"
      },
      "outputs": [
        {
          "output_type": "execute_result",
          "data": {
            "text/plain": [
              "[(3341, 0.1311039616980742),\n",
              " (3045, 0.0543493167249453),\n",
              " (2677, 0.03678009095614476),\n",
              " (3346, 0.03349263767937763),\n",
              " (281, 0.02253067220669637),\n",
              " (3729, 0.015620490961999455),\n",
              " (1953, 0.012780918068090077),\n",
              " (707, 0.01263506883264253),\n",
              " (592, 0.011987182494969198),\n",
              " (2448, 0.011317739635254025)]"
            ]
          },
          "metadata": {},
          "execution_count": 14
        }
      ],
      "source": [
        "model.top_k(tid=0)"
      ]
    },
    {
      "cell_type": "markdown",
      "metadata": {
        "deletable": true,
        "editable": true,
        "id": "i3yx6PSkqosT"
      },
      "source": [
        "The models operate on term ids instead of raw text strings, so let's convert this to a human readable format by using the vocabulary contained in our `ForwardIndex` to map the term ids to strings."
      ]
    },
    {
      "cell_type": "code",
      "execution_count": 15,
      "metadata": {
        "deletable": true,
        "editable": true,
        "colab": {
          "base_uri": "https://localhost:8080/"
        },
        "id": "5oCdoLN-qosU",
        "outputId": "22ec4ab1-8e76-4a05-f550-cf9d2b2d7549"
      },
      "outputs": [
        {
          "output_type": "execute_result",
          "data": {
            "text/plain": [
              "[('smoke', 0.1311039616980742),\n",
              " ('restaur', 0.0543493167249453),\n",
              " ('peopl', 0.03678009095614476),\n",
              " ('smoker', 0.03349263767937763),\n",
              " ('ban', 0.02253067220669637),\n",
              " ('think', 0.015620490961999455),\n",
              " ('japan', 0.012780918068090077),\n",
              " ('complet', 0.01263506883264253),\n",
              " ('cigarett', 0.011987182494969198),\n",
              " ('non', 0.011317739635254025)]"
            ]
          },
          "metadata": {},
          "execution_count": 15
        }
      ],
      "source": [
        "[(fidx.term_text(pr[0]), pr[1]) for pr in model.top_k(tid=0)]"
      ]
    },
    {
      "cell_type": "code",
      "execution_count": 16,
      "metadata": {
        "deletable": true,
        "editable": true,
        "colab": {
          "base_uri": "https://localhost:8080/"
        },
        "id": "UEaGbyAFqosV",
        "outputId": "1dc2adb7-5cc4-4ff6-e720-3ab52a357cb8"
      },
      "outputs": [
        {
          "output_type": "execute_result",
          "data": {
            "text/plain": [
              "[('time', 0.06705636497734882),\n",
              " ('job', 0.05605930314013584),\n",
              " ('part', 0.05222306599412699),\n",
              " ('student', 0.04642938729192801),\n",
              " ('colleg', 0.03488140926054462),\n",
              " ('work', 0.02906748282272318),\n",
              " ('money', 0.02885022133217468),\n",
              " ('think', 0.02233134255069468),\n",
              " ('import', 0.020755697884388132),\n",
              " ('studi', 0.015483036463006979)]"
            ]
          },
          "metadata": {},
          "execution_count": 16
        }
      ],
      "source": [
        "[(fidx.term_text(pr[0]), pr[1]) for pr in model.top_k(tid=1)]"
      ]
    },
    {
      "cell_type": "markdown",
      "metadata": {
        "deletable": true,
        "editable": true,
        "id": "daKK0jm-qosX"
      },
      "source": [
        "We can pretty clearly see that this particular dataset was about two major issues: smoking in public and part time jobs for students. This dataset is actually a collection of essays written by students, and there just so happen to be two different topics they can choose from!\n",
        "\n",
        "The topics are pretty clear in this case, but in some cases it is also useful to score the terms in a topic using some function of the probability of the word in the topic and the probability of the word in the other topics. Intuitively, we might want to select words from each topic that best reflect that topic's content by picking words that both have high probability in that topic **and** have low probability in the other topics. In other words, we want to balance between high probability terms and highly specific terms (this is kind of like a tf-idf weighting). One such scoring function is provided by the toolkit in `BLTermScorer`, which implements a scoring function proposed by Blei and Lafferty."
      ]
    },
    {
      "cell_type": "code",
      "execution_count": 17,
      "metadata": {
        "deletable": true,
        "editable": true,
        "colab": {
          "base_uri": "https://localhost:8080/"
        },
        "id": "WeEM39Neqos-",
        "outputId": "99334cd8-c906-497c-a45a-2e70cb8f752a"
      },
      "outputs": [
        {
          "output_type": "execute_result",
          "data": {
            "text/plain": [
              "[('smoke', 0.8741641804849536),\n",
              " ('restaur', 0.3174613559499626),\n",
              " ('smoker', 0.20060262327581713),\n",
              " ('ban', 0.12853037061168004),\n",
              " ('cigarett', 0.06557605793872723),\n",
              " ('non', 0.06128421659378658),\n",
              " ('complet', 0.06105370480985517),\n",
              " ('japan', 0.05846560263488776),\n",
              " ('health', 0.05054833701636596),\n",
              " ('seat', 0.04533989023870699)]"
            ]
          },
          "metadata": {},
          "execution_count": 17
        }
      ],
      "source": [
        "scorer = metapy.topics.BLTermScorer(model)\n",
        "[(fidx.term_text(pr[0]), pr[1]) for pr in model.top_k(tid=0, scorer=scorer)]"
      ]
    },
    {
      "cell_type": "code",
      "execution_count": 18,
      "metadata": {
        "deletable": true,
        "editable": true,
        "colab": {
          "base_uri": "https://localhost:8080/"
        },
        "id": "-5LT1UV3qos_",
        "outputId": "1f272627-081f-40b9-b17d-dd9d247b495e"
      },
      "outputs": [
        {
          "output_type": "execute_result",
          "data": {
            "text/plain": [
              "[('job', 0.34822055982109745),\n",
              " ('part', 0.31311073454499505),\n",
              " ('student', 0.28328934003005113),\n",
              " ('colleg', 0.20808998259589195),\n",
              " ('time', 0.17796673315337763),\n",
              " ('money', 0.16234683273207873),\n",
              " ('work', 0.15585336960424812),\n",
              " ('studi', 0.08228289420906876),\n",
              " ('learn', 0.0649189980022069),\n",
              " ('experi', 0.054945309198595194)]"
            ]
          },
          "metadata": {},
          "execution_count": 18
        }
      ],
      "source": [
        "[(fidx.term_text(pr[0]), pr[1]) for pr in model.top_k(tid=1, scorer=scorer)]"
      ]
    },
    {
      "cell_type": "markdown",
      "metadata": {
        "deletable": true,
        "editable": true,
        "id": "L-NkM-Y8qotB"
      },
      "source": [
        "Here we can see that the uninformative word stem \"think\" was downweighted from the word list from each topic, since it had relatively high probability in either topic."
      ]
    },
    {
      "cell_type": "markdown",
      "metadata": {
        "deletable": true,
        "editable": true,
        "id": "SaWdFanIqotB"
      },
      "source": [
        "We can also see the inferred topic distribution for each document."
      ]
    },
    {
      "cell_type": "code",
      "execution_count": 19,
      "metadata": {
        "deletable": true,
        "editable": true,
        "colab": {
          "base_uri": "https://localhost:8080/"
        },
        "id": "5ZoZF6W6qotC",
        "outputId": "f3ae5710-902a-41ad-cc49-37689242bcf7"
      },
      "outputs": [
        {
          "output_type": "execute_result",
          "data": {
            "text/plain": [
              "<metapy.stats.Multinomial {0: 0.021341, 1: 0.978659}>"
            ]
          },
          "metadata": {},
          "execution_count": 19
        }
      ],
      "source": [
        "model.topic_distribution(0)"
      ]
    },
    {
      "cell_type": "markdown",
      "metadata": {
        "deletable": true,
        "editable": true,
        "id": "D0pTZtgOqotC"
      },
      "source": [
        "It looks like our first document was written by a student who chose the part-time job essay topic..."
      ]
    },
    {
      "cell_type": "code",
      "execution_count": 20,
      "metadata": {
        "deletable": true,
        "editable": true,
        "colab": {
          "base_uri": "https://localhost:8080/"
        },
        "id": "H27KsAp5qotC",
        "outputId": "2d1ec14a-8a1d-40e8-fb36-c718fd55d38a"
      },
      "outputs": [
        {
          "output_type": "execute_result",
          "data": {
            "text/plain": [
              "<metapy.stats.Multinomial {0: 0.978797, 1: 0.021203}>"
            ]
          },
          "metadata": {},
          "execution_count": 20
        }
      ],
      "source": [
        "model.topic_distribution(900)"
      ]
    },
    {
      "cell_type": "markdown",
      "metadata": {
        "deletable": true,
        "editable": true,
        "id": "w4_WPXWHqotE"
      },
      "source": [
        "...whereas this document looks like it was written by a student who chose the public smoking essay topic."
      ]
    },
    {
      "cell_type": "markdown",
      "metadata": {
        "collapsed": true,
        "deletable": true,
        "editable": true,
        "id": "XoNd1q2VqotE"
      },
      "source": [
        "We can also infer topics for a brand new document. First, let's create the document and use the forward index we loaded before to convert it to a feature vector:"
      ]
    },
    {
      "cell_type": "code",
      "execution_count": 21,
      "metadata": {
        "collapsed": true,
        "deletable": true,
        "editable": true,
        "id": "jhRu_AHZqotH"
      },
      "outputs": [],
      "source": [
        "doc = metapy.index.Document()\n",
        "doc.content(\"I think smoking in public is bad for others' health.\")\n",
        "fvec = fidx.tokenize(doc)"
      ]
    },
    {
      "cell_type": "markdown",
      "metadata": {
        "deletable": true,
        "editable": true,
        "id": "pExWXX0MqotK"
      },
      "source": [
        "Now, let's load a topic model inferencer that uses the same CVB inference method we used earlier:"
      ]
    },
    {
      "cell_type": "code",
      "execution_count": 22,
      "metadata": {
        "deletable": true,
        "editable": true,
        "colab": {
          "base_uri": "https://localhost:8080/"
        },
        "id": "mEoOwrqbqotw",
        "outputId": "1c78436f-0884-4e53-fd82-28eca2bc603c"
      },
      "outputs": [
        {
          "output_type": "stream",
          "name": "stderr",
          "text": [
            " \r > Loading topic term probabilities: [=======================] 100% ETA 00:00:00 \n"
          ]
        }
      ],
      "source": [
        "inferencer = metapy.topics.CVBInferencer('lda-cvb0.phi.bin', alpha=1.0)"
      ]
    },
    {
      "cell_type": "markdown",
      "metadata": {
        "collapsed": true,
        "deletable": true,
        "editable": true,
        "id": "eaz0duD2qotx"
      },
      "source": [
        "Now, let's infer the topic proportions for the new document:"
      ]
    },
    {
      "cell_type": "code",
      "execution_count": 23,
      "metadata": {
        "deletable": true,
        "editable": true,
        "colab": {
          "base_uri": "https://localhost:8080/"
        },
        "id": "OoLeKpQNqotx",
        "outputId": "aadf125e-9bc1-41cc-9352-efa6b902bea1"
      },
      "outputs": [
        {
          "output_type": "stream",
          "name": "stdout",
          "text": [
            "<metapy.stats.Multinomial {0: 0.814392, 1: 0.185608}>\n"
          ]
        }
      ],
      "source": [
        "proportions = inferencer.infer(fvec, max_iters=20, convergence=1e-4)\n",
        "print(proportions)"
      ]
    }
  ],
  "metadata": {
    "kernelspec": {
      "display_name": "Python 3.8.10 ('venv': venv)",
      "language": "python",
      "name": "python3"
    },
    "language_info": {
      "codemirror_mode": {
        "name": "ipython",
        "version": 3
      },
      "file_extension": ".py",
      "mimetype": "text/x-python",
      "name": "python",
      "nbconvert_exporter": "python",
      "pygments_lexer": "ipython3",
      "version": "3.8.10"
    },
    "vscode": {
      "interpreter": {
        "hash": "1b32ce2ef2cf43bd49542c1d6f40df2390cf5e4ba090c99d923ccca864eaed4d"
      }
    },
    "colab": {
      "provenance": [],
      "include_colab_link": true
    }
  },
  "nbformat": 4,
  "nbformat_minor": 0
}
