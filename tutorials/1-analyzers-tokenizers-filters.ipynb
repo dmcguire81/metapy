{
  "cells": [
    {
      "cell_type": "markdown",
      "metadata": {
        "id": "view-in-github",
        "colab_type": "text"
      },
      "source": [
        "<a href=\"https://colab.research.google.com/github/dmcguire81/metapy/blob/master/tutorials/1-analyzers-tokenizers-filters.ipynb\" target=\"_parent\"><img src=\"https://colab.research.google.com/assets/colab-badge.svg\" alt=\"Open In Colab\"/></a>"
      ]
    },
    {
      "cell_type": "markdown",
      "metadata": {
        "deletable": true,
        "editable": true,
        "id": "qftZvf7EhkM3"
      },
      "source": [
        "This is the Analyzers, Tokenizers, and Filters metapy tutorial. First, you should read the following two MeTA tutorials:\n",
        "- [MeTA System Overview](https://meta-toolkit.org/overview-tutorial.html). Everything on this page is relevant to metapy except for the *Unit tests* section (you can't run them in Python).\n",
        "- [Analyzers, Tokenizers, and Filters](https://meta-toolkit.org/analyzers-filters-tutorial.html). Everything on this page is relevant except for the *Extending MeTA With Your Own Filters* section.\n",
        "\n",
        "Let's get started!\n",
        "\n",
        "First, let's create a document to play with."
      ]
    },
    {
      "cell_type": "code",
      "source": [
        "%%capture\n",
        "# Note: this works because the part of the stock build that hangs is not run\n",
        "%pip install metapy"
      ],
      "metadata": {
        "id": "CwDLFauChqyu"
      },
      "execution_count": 1,
      "outputs": []
    },
    {
      "cell_type": "code",
      "execution_count": 2,
      "metadata": {
        "collapsed": true,
        "deletable": true,
        "editable": true,
        "id": "lobsQuHIhkNk"
      },
      "outputs": [],
      "source": [
        "import metapy\n",
        "doc = metapy.index.Document()\n",
        "doc.content(\"I said that I can't believe that it only costs $19.95!\")"
      ]
    },
    {
      "cell_type": "markdown",
      "metadata": {
        "deletable": true,
        "editable": true,
        "id": "FhtXCm56hkNl"
      },
      "source": [
        "We can make our own filter chain and run it on the document's content. Let's start with a simple example of only using `ICUTokenizer`."
      ]
    },
    {
      "cell_type": "code",
      "execution_count": 3,
      "metadata": {
        "deletable": true,
        "editable": true,
        "colab": {
          "base_uri": "https://localhost:8080/"
        },
        "id": "swBibYMlhkNm",
        "outputId": "90f76b91-374c-4f2d-ae54-5dd3d96c1bc3"
      },
      "outputs": [
        {
          "output_type": "execute_result",
          "data": {
            "text/plain": [
              "['<s>',\n",
              " 'I',\n",
              " 'said',\n",
              " 'that',\n",
              " 'I',\n",
              " \"can't\",\n",
              " 'believe',\n",
              " 'that',\n",
              " 'it',\n",
              " 'only',\n",
              " 'costs',\n",
              " '$',\n",
              " '19.95',\n",
              " '!',\n",
              " '</s>']"
            ]
          },
          "metadata": {},
          "execution_count": 3
        }
      ],
      "source": [
        "tok = metapy.analyzers.ICUTokenizer()\n",
        "tok.set_content(doc.content())\n",
        "[t for t in tok]"
      ]
    },
    {
      "cell_type": "markdown",
      "metadata": {
        "deletable": true,
        "editable": true,
        "id": "yyzQfvdMhkNo"
      },
      "source": [
        "See how the begin and end sentence markers (`<s>` and `</s>`) are inserted at the beginning and end of each sentence. We get an ordered list from using a tokenizer or filter.\n",
        "\n",
        "Next, use `LowercaseFilter` to convert each token to lowercase. We use the previous `tok` (which is an `ICUTokenizer`) in the constructor to `LowercaseFilter`. This lets us connect an arbitrary amount of filters together with a tokenizer at the start."
      ]
    },
    {
      "cell_type": "code",
      "execution_count": 4,
      "metadata": {
        "deletable": true,
        "editable": true,
        "colab": {
          "base_uri": "https://localhost:8080/"
        },
        "id": "zSg9TJGuhkNp",
        "outputId": "f65dca74-465f-49b0-aa8d-90c1751030e8"
      },
      "outputs": [
        {
          "output_type": "execute_result",
          "data": {
            "text/plain": [
              "['<s>',\n",
              " 'i',\n",
              " 'said',\n",
              " 'that',\n",
              " 'i',\n",
              " \"can't\",\n",
              " 'believe',\n",
              " 'that',\n",
              " 'it',\n",
              " 'only',\n",
              " 'costs',\n",
              " '$',\n",
              " '19.95',\n",
              " '!',\n",
              " '</s>']"
            ]
          },
          "metadata": {},
          "execution_count": 4
        }
      ],
      "source": [
        "tok = metapy.analyzers.ICUTokenizer()\n",
        "tok = metapy.analyzers.LowercaseFilter(tok)\n",
        "tok.set_content(doc.content())\n",
        "[t for t in tok]"
      ]
    },
    {
      "cell_type": "markdown",
      "metadata": {
        "deletable": true,
        "editable": true,
        "id": "of5PvMMfhkNr"
      },
      "source": [
        "Just like in MeTA, metapy's filter chain can be created from a config file. Create the following file called `config.toml`. It will perform the same tokenization and filtering as above (`ICUTokenizer -> LowercaseFilter`). Then, it will aggregate token counts together using an *n*-gram words analyzer.\n",
        "\n",
        "```toml\n",
        "[[analyzers]]\n",
        "method = \"ngram-word\"\n",
        "ngram = 1\n",
        "filter = [{type = \"icu-tokenizer\"}, {type = \"lowercase\"}]\n",
        "```\n",
        "\n",
        "Now, you can load this config file to create a unigram words analyzer. This uses the specified tokenizer/filter chain and analyzer type to convert a document into a dictionary of features and their counts."
      ]
    },
    {
      "cell_type": "code",
      "source": [
        "%%capture\n",
        "!wget -N https://raw.githubusercontent.com/dmcguire81/metapy/master/tutorials/config.toml"
      ],
      "metadata": {
        "id": "4Tx6zw7kjvbV"
      },
      "execution_count": 5,
      "outputs": []
    },
    {
      "cell_type": "code",
      "execution_count": 6,
      "metadata": {
        "deletable": true,
        "editable": true,
        "colab": {
          "base_uri": "https://localhost:8080/"
        },
        "id": "kMZsZEILhkNs",
        "outputId": "6df374bc-b85c-4d2f-e763-23a4755455b9"
      },
      "outputs": [
        {
          "output_type": "execute_result",
          "data": {
            "text/plain": [
              "{'said': 1,\n",
              " 'costs': 1,\n",
              " 'believe': 1,\n",
              " \"can't\": 1,\n",
              " 'only': 1,\n",
              " 'it': 1,\n",
              " '<s>': 1,\n",
              " '19.95': 1,\n",
              " '!': 1,\n",
              " '$': 1,\n",
              " '</s>': 1,\n",
              " 'i': 2,\n",
              " 'that': 2}"
            ]
          },
          "metadata": {},
          "execution_count": 6
        }
      ],
      "source": [
        "ana = metapy.analyzers.load('config.toml')\n",
        "ana.analyze(doc)"
      ]
    },
    {
      "cell_type": "markdown",
      "metadata": {
        "deletable": true,
        "editable": true,
        "id": "R2wcgHVVhkOU"
      },
      "source": [
        "The tokens *i* and *that* are shown with two counts, while all the other tokens have 1 count. These features can then be passed to other parts of metapy, such as ranking functions or indexers.\n",
        "\n",
        "We can also manually specify the analyzer instead of loading it from the config file:"
      ]
    },
    {
      "cell_type": "code",
      "execution_count": 7,
      "metadata": {
        "deletable": true,
        "editable": true,
        "colab": {
          "base_uri": "https://localhost:8080/"
        },
        "id": "uFyAy4k0hkOW",
        "outputId": "19dbaf5f-4ee7-4e8c-ccc9-8b5227590591"
      },
      "outputs": [
        {
          "output_type": "execute_result",
          "data": {
            "text/plain": [
              "{'said': 1,\n",
              " 'costs': 1,\n",
              " 'believe': 1,\n",
              " \"can't\": 1,\n",
              " 'only': 1,\n",
              " 'it': 1,\n",
              " '<s>': 1,\n",
              " '19.95': 1,\n",
              " '!': 1,\n",
              " '$': 1,\n",
              " '</s>': 1,\n",
              " 'i': 2,\n",
              " 'that': 2}"
            ]
          },
          "metadata": {},
          "execution_count": 7
        }
      ],
      "source": [
        "ana = metapy.analyzers.NGramWordAnalyzer(1, tok)\n",
        "ana.analyze(doc)"
      ]
    },
    {
      "cell_type": "code",
      "execution_count": 8,
      "metadata": {
        "deletable": true,
        "editable": true,
        "colab": {
          "base_uri": "https://localhost:8080/"
        },
        "id": "GxjH_U3JhkOZ",
        "outputId": "9ff459fd-fb57-403d-ef5c-0ddfe9ce32e8"
      },
      "outputs": [
        {
          "output_type": "execute_result",
          "data": {
            "text/plain": [
              "{('only', 'costs', '$'): 1,\n",
              " ('i', \"can't\", 'believe'): 1,\n",
              " ('<s>', 'i', 'said'): 1,\n",
              " ('$', '19.95', '!'): 1,\n",
              " ('costs', '$', '19.95'): 1,\n",
              " ('that', 'i', \"can't\"): 1,\n",
              " ('19.95', '!', '</s>'): 1,\n",
              " (\"can't\", 'believe', 'that'): 1,\n",
              " ('said', 'that', 'i'): 1,\n",
              " ('i', 'said', 'that'): 1,\n",
              " ('that', 'it', 'only'): 1,\n",
              " ('it', 'only', 'costs'): 1,\n",
              " ('believe', 'that', 'it'): 1}"
            ]
          },
          "metadata": {},
          "execution_count": 8
        }
      ],
      "source": [
        "ana = metapy.analyzers.NGramWordAnalyzer(3, tok)\n",
        "ana.analyze(doc)"
      ]
    },
    {
      "cell_type": "markdown",
      "metadata": {
        "deletable": true,
        "editable": true,
        "id": "s0oLjxwBhkOb"
      },
      "source": [
        "Usually, metapy applications will create and call analyzers based on a config file, so you won't have to create your own manually. However, it may still be useful if you are performing your own analysis that is not part of MeTA."
      ]
    }
  ],
  "metadata": {
    "kernelspec": {
      "display_name": "Python 3",
      "language": "python",
      "name": "python3"
    },
    "language_info": {
      "codemirror_mode": {
        "name": "ipython",
        "version": 3
      },
      "file_extension": ".py",
      "mimetype": "text/x-python",
      "name": "python",
      "nbconvert_exporter": "python",
      "pygments_lexer": "ipython3",
      "version": "3.6.0"
    },
    "colab": {
      "provenance": [],
      "include_colab_link": true
    }
  },
  "nbformat": 4,
  "nbformat_minor": 0
}
